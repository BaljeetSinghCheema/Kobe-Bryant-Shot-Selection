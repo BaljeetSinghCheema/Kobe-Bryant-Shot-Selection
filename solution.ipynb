{
 "cells": [
  {
   "cell_type": "code",
   "execution_count": 1,
   "metadata": {
    "collapsed": false
   },
   "outputs": [
    {
     "name": "stderr",
     "output_type": "stream",
     "text": [
      "/home/baljeet/anaconda2/lib/python2.7/site-packages/sklearn/cross_validation.py:44: DeprecationWarning: This module was deprecated in version 0.18 in favor of the model_selection module into which all the refactored classes and functions are moved. Also note that the interface of the new CV iterators are different from that of this module. This module will be removed in 0.20.\n",
      "  \"This module will be removed in 0.20.\", DeprecationWarning)\n"
     ]
    }
   ],
   "source": [
    "# Importing Libraries!\n",
    "\n",
    "import numpy as np\n",
    "import pandas as pd\n",
    "from xgboost.sklearn import XGBClassifier\n",
    "from sklearn.cross_validation import cross_val_score"
   ]
  },
  {
   "cell_type": "code",
   "execution_count": 2,
   "metadata": {
    "collapsed": false
   },
   "outputs": [],
   "source": [
    "# Loading data and clean it followed by sorting as game date!\n",
    "\n",
    "df = pd.read_csv(\"./data.csv\")\n",
    "df.drop(['game_event_id', 'game_id', 'lat', 'lon', 'team_id', 'team_name'], axis=1, inplace=True)\n",
    "df.sort_values('game_date',  inplace=True)\n",
    "mask = df['shot_made_flag'].isnull()"
   ]
  },
  {
   "cell_type": "code",
   "execution_count": 3,
   "metadata": {
    "collapsed": true
   },
   "outputs": [],
   "source": [
    "# Done Data Cleaning here!\n",
    "\n",
    "actiontypes = dict(df.action_type.value_counts())\n",
    "df['type'] = df.apply(lambda row: row['action_type'] if actiontypes[row['action_type']] > 20\\\n",
    "                          else row['combined_shot_type'], axis=1)\n",
    "df.drop(['action_type', 'combined_shot_type'], axis=1, inplace=True)\n",
    "\n",
    "df['away'] = df.matchup.str.contains('@')\n",
    "df.drop('matchup', axis=1, inplace=True)\n",
    "\n",
    "df['distance'] = df.apply(lambda row: row['shot_distance'] if row['shot_distance'] <45 else 45, axis=1)\n",
    "\n",
    "df['time_remaining'] = df.apply(lambda row: row['minutes_remaining'] * 60 + row['seconds_remaining'], axis=1)\n",
    "df['last_moments'] = df.apply(lambda row: 1 if row['time_remaining'] < 3 else 0, axis=1)\n",
    "\n",
    "data = pd.get_dummies(df['type'],prefix=\"action_type\")\n",
    "\n",
    "features=[\"away\", \"period\", \"playoffs\", \"shot_type\", \"shot_zone_area\", \"shot_zone_basic\", \"season\",\n",
    "           \"shot_zone_range\", \"opponent\", \"distance\", \"minutes_remaining\", \"last_moments\"]\n",
    "for f in features:\n",
    "    data = pd.concat([data, pd.get_dummies(df[f], prefix=f),], axis=1)"
   ]
  },
  {
   "cell_type": "code",
   "execution_count": 4,
   "metadata": {
    "collapsed": false
   },
   "outputs": [
    {
     "data": {
      "text/plain": [
       "XGBClassifier(base_score=0.5, colsample_bylevel=1, colsample_bytree=0.75,\n",
       "       gamma=0, learning_rate=0.01, max_delta_step=0, max_depth=4,\n",
       "       min_child_weight=1, missing=None, n_estimators=3000, nthread=-1,\n",
       "       objective='binary:logistic', reg_alpha=0, reg_lambda=1,\n",
       "       scale_pos_weight=1, seed=1, silent=True, subsample=0.75)"
      ]
     },
     "execution_count": 4,
     "metadata": {},
     "output_type": "execute_result"
    }
   ],
   "source": [
    "# Training Classifier!\n",
    "\n",
    "X = data[~mask]\n",
    "y = df.shot_made_flag[~mask]\n",
    "\n",
    "clf_xgb = XGBClassifier(max_depth=4, learning_rate=0.01, n_estimators=3000, subsample=0.75, colsample_bytree=0.75, seed=1)\n",
    "clf_xgb.fit(X, y)\n"
   ]
  },
  {
   "cell_type": "code",
   "execution_count": null,
   "metadata": {
    "collapsed": true
   },
   "outputs": [],
   "source": [
    "# Predicting Data!\n",
    "\n",
    "target_x = data[mask]\n",
    "target_y = clf_xgb.predict_proba(target_x)[:,1]\n",
    "target_id = df[mask][\"shot_id\"]\n",
    "submission = pd.DataFrame({\"shot_id\":target_id, \"shot_made_flag\":target_y})\n",
    "submission.sort_values('shot_id',  inplace=True)\n",
    "submission.to_csv(\"result.csv\",index=False)"
   ]
  }
 ],
 "metadata": {
  "anaconda-cloud": {},
  "kernelspec": {
   "display_name": "Python [conda root]",
   "language": "python",
   "name": "conda-root-py"
  },
  "language_info": {
   "codemirror_mode": {
    "name": "ipython",
    "version": 2
   },
   "file_extension": ".py",
   "mimetype": "text/x-python",
   "name": "python",
   "nbconvert_exporter": "python",
   "pygments_lexer": "ipython2",
   "version": "2.7.12"
  }
 },
 "nbformat": 4,
 "nbformat_minor": 1
}
